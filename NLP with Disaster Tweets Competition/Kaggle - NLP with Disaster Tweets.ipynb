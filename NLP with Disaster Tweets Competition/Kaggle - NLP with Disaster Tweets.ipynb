{
 "cells": [
  {
   "cell_type": "markdown",
   "metadata": {},
   "source": [
    "# NLP with Disaster Tweets Competition"
   ]
  },
  {
   "cell_type": "markdown",
   "metadata": {},
   "source": [
    "Twitter has become an important communication channel in times of emergency.\n",
    "The ubiquitousness of smartphones enables people to announce an emergency they’re observing in real-time. Because of this, more agencies are interested in programatically monitoring Twitter (i.e. disaster relief organizations and news agencies). But, it’s not always clear whether a person’s words are actually announcing a disaster.\n",
    "\n",
    "In this competition, you’re challenged to build a machine learning model that predicts which Tweets are about real disasters and which one’s aren’t. You’ll have access to a dataset of 10,000 tweets that were hand classified.\n",
    "\n",
    "Disclaimer: The dataset for this competition contains text that may be considered profane, vulgar, or offensive."
   ]
  },
  {
   "cell_type": "markdown",
   "metadata": {},
   "source": [
    "## Introduction"
   ]
  },
  {
   "cell_type": "code",
   "execution_count": 37,
   "metadata": {},
   "outputs": [
    {
     "name": "stdout",
     "output_type": "stream",
     "text": [
      ">>> Sucessfully imported all libraries and dataset\n"
     ]
    }
   ],
   "source": [
    "import warnings\n",
    "warnings.simplefilter(action='ignore', category=FutureWarning)\n",
    "\n",
    "import numpy as np # linear algebra\n",
    "import pandas as pd # data processing\n",
    "import re # for regular expression\n",
    "\n",
    "import spacy\n",
    "nlp = en_core_web_lg.load()\n",
    "\n",
    "import matplotlib.pyplot as plt\n",
    "import seaborn as sns\n",
    "%matplotlib inline\n",
    "\n",
    "train_filepath = 'train.csv'\n",
    "test_filepath = 'test.csv'\n",
    "\n",
    "train_data = pd.read_csv(train_filepath, index_col='id', encoding='utf_8')\n",
    "test_data = pd.read_csv(test_filepath, index_col='id', encoding='utf_8')\n",
    "\n",
    "print('>>> Sucessfully imported all libraries and dataset')"
   ]
  },
  {
   "cell_type": "markdown",
   "metadata": {},
   "source": [
    "## I. Exploratory Data Analysis"
   ]
  },
  {
   "cell_type": "code",
   "execution_count": 38,
   "metadata": {},
   "outputs": [
    {
     "data": {
      "text/html": [
       "<div>\n",
       "<style scoped>\n",
       "    .dataframe tbody tr th:only-of-type {\n",
       "        vertical-align: middle;\n",
       "    }\n",
       "\n",
       "    .dataframe tbody tr th {\n",
       "        vertical-align: top;\n",
       "    }\n",
       "\n",
       "    .dataframe thead th {\n",
       "        text-align: right;\n",
       "    }\n",
       "</style>\n",
       "<table border=\"1\" class=\"dataframe\">\n",
       "  <thead>\n",
       "    <tr style=\"text-align: right;\">\n",
       "      <th></th>\n",
       "      <th>keyword</th>\n",
       "      <th>location</th>\n",
       "      <th>text</th>\n",
       "      <th>target</th>\n",
       "    </tr>\n",
       "    <tr>\n",
       "      <th>id</th>\n",
       "      <th></th>\n",
       "      <th></th>\n",
       "      <th></th>\n",
       "      <th></th>\n",
       "    </tr>\n",
       "  </thead>\n",
       "  <tbody>\n",
       "    <tr>\n",
       "      <td>3778</td>\n",
       "      <td>destruction</td>\n",
       "      <td>Yooooooo</td>\n",
       "      <td>What's happening? A destruction indeed http://...</td>\n",
       "      <td>0</td>\n",
       "    </tr>\n",
       "    <tr>\n",
       "      <td>8021</td>\n",
       "      <td>refugees</td>\n",
       "      <td>St PetersburgFL</td>\n",
       "      <td>'imagine an entire aisle dedicated to making p...</td>\n",
       "      <td>0</td>\n",
       "    </tr>\n",
       "    <tr>\n",
       "      <td>10822</td>\n",
       "      <td>wrecked</td>\n",
       "      <td>Glasgow</td>\n",
       "      <td>@Caitsroberts see U the night wee bArra to get...</td>\n",
       "      <td>0</td>\n",
       "    </tr>\n",
       "    <tr>\n",
       "      <td>7987</td>\n",
       "      <td>razed</td>\n",
       "      <td>NaN</td>\n",
       "      <td>The Latest: More Homes Razed by Northern Calif...</td>\n",
       "      <td>1</td>\n",
       "    </tr>\n",
       "    <tr>\n",
       "      <td>1106</td>\n",
       "      <td>blew%20up</td>\n",
       "      <td>Florida</td>\n",
       "      <td>@iphooey @TIME Ironically Michele Bachmann bro...</td>\n",
       "      <td>0</td>\n",
       "    </tr>\n",
       "    <tr>\n",
       "      <td>7580</td>\n",
       "      <td>outbreak</td>\n",
       "      <td>Anywhere</td>\n",
       "      <td>Families to sue over Legionnaires: More than 4...</td>\n",
       "      <td>1</td>\n",
       "    </tr>\n",
       "    <tr>\n",
       "      <td>9395</td>\n",
       "      <td>survivors</td>\n",
       "      <td>NaN</td>\n",
       "      <td>Dying with debt can be costly for survivors</td>\n",
       "      <td>0</td>\n",
       "    </tr>\n",
       "    <tr>\n",
       "      <td>10030</td>\n",
       "      <td>twister</td>\n",
       "      <td>NaN</td>\n",
       "      <td>Bulgarian Tittie Twister By NoEmotion Produced...</td>\n",
       "      <td>0</td>\n",
       "    </tr>\n",
       "    <tr>\n",
       "      <td>5856</td>\n",
       "      <td>hailstorm</td>\n",
       "      <td>Calgary, Alberta</td>\n",
       "      <td>Ready for my close up... Errrr nope!! #notgoin...</td>\n",
       "      <td>1</td>\n",
       "    </tr>\n",
       "    <tr>\n",
       "      <td>777</td>\n",
       "      <td>avalanche</td>\n",
       "      <td>NaN</td>\n",
       "      <td>Free Ebay Sniping RT? http://t.co/RqIPGQslT6 C...</td>\n",
       "      <td>0</td>\n",
       "    </tr>\n",
       "  </tbody>\n",
       "</table>\n",
       "</div>"
      ],
      "text/plain": [
       "           keyword          location  \\\n",
       "id                                     \n",
       "3778   destruction          Yooooooo   \n",
       "8021      refugees   St PetersburgFL   \n",
       "10822      wrecked          Glasgow    \n",
       "7987         razed               NaN   \n",
       "1106     blew%20up           Florida   \n",
       "7580      outbreak          Anywhere   \n",
       "9395     survivors               NaN   \n",
       "10030      twister               NaN   \n",
       "5856     hailstorm  Calgary, Alberta   \n",
       "777      avalanche               NaN   \n",
       "\n",
       "                                                    text  target  \n",
       "id                                                                \n",
       "3778   What's happening? A destruction indeed http://...       0  \n",
       "8021   'imagine an entire aisle dedicated to making p...       0  \n",
       "10822  @Caitsroberts see U the night wee bArra to get...       0  \n",
       "7987   The Latest: More Homes Razed by Northern Calif...       1  \n",
       "1106   @iphooey @TIME Ironically Michele Bachmann bro...       0  \n",
       "7580   Families to sue over Legionnaires: More than 4...       1  \n",
       "9395         Dying with debt can be costly for survivors       0  \n",
       "10030  Bulgarian Tittie Twister By NoEmotion Produced...       0  \n",
       "5856   Ready for my close up... Errrr nope!! #notgoin...       1  \n",
       "777    Free Ebay Sniping RT? http://t.co/RqIPGQslT6 C...       0  "
      ]
     },
     "execution_count": 38,
     "metadata": {},
     "output_type": "execute_result"
    }
   ],
   "source": [
    "train_data.sample(10)"
   ]
  },
  {
   "cell_type": "code",
   "execution_count": 39,
   "metadata": {},
   "outputs": [
    {
     "name": "stdout",
     "output_type": "stream",
     "text": [
      "<class 'pandas.core.frame.DataFrame'>\n",
      "Int64Index: 7613 entries, 1 to 10873\n",
      "Data columns (total 4 columns):\n",
      "keyword     7552 non-null object\n",
      "location    5080 non-null object\n",
      "text        7613 non-null object\n",
      "target      7613 non-null int64\n",
      "dtypes: int64(1), object(3)\n",
      "memory usage: 297.4+ KB\n"
     ]
    }
   ],
   "source": [
    "train_data.info()"
   ]
  },
  {
   "cell_type": "markdown",
   "metadata": {},
   "source": [
    "There are 7613 rows and 4 columns. The target column we want to predict is target (Classification problem)"
   ]
  },
  {
   "cell_type": "code",
   "execution_count": 40,
   "metadata": {},
   "outputs": [
    {
     "name": "stdout",
     "output_type": "stream",
     "text": [
      "Duplicate count in train data: 52\n",
      "Duplicate count in test data: 11\n"
     ]
    }
   ],
   "source": [
    "print('Duplicate count in train data:', train_data.duplicated().sum())\n",
    "print('Duplicate count in test data:', test_data.duplicated().sum())"
   ]
  },
  {
   "cell_type": "markdown",
   "metadata": {},
   "source": [
    "There are 52 duplicated rows that need to be removed in the train data."
   ]
  },
  {
   "cell_type": "code",
   "execution_count": 41,
   "metadata": {},
   "outputs": [
    {
     "data": {
      "text/plain": [
       "location    2533\n",
       "keyword       61\n",
       "target         0\n",
       "text           0\n",
       "dtype: int64"
      ]
     },
     "execution_count": 41,
     "metadata": {},
     "output_type": "execute_result"
    }
   ],
   "source": [
    "train_data.isnull().sum().sort_values(ascending=False)"
   ]
  },
  {
   "cell_type": "code",
   "execution_count": 42,
   "metadata": {},
   "outputs": [
    {
     "data": {
      "text/plain": [
       "location    1105\n",
       "keyword       26\n",
       "text           0\n",
       "dtype: int64"
      ]
     },
     "execution_count": 42,
     "metadata": {},
     "output_type": "execute_result"
    }
   ],
   "source": [
    "test_data.isnull().sum().sort_values(ascending=False)"
   ]
  },
  {
   "cell_type": "markdown",
   "metadata": {},
   "source": [
    "There are a lot of missing values location in both dataset. We will fill them with 'no_location'\n",
    "\n",
    "Missing values in keyword requires more attention. It makes no sense to fill with the most frequent value or anything else, so we will fill with 'no_keyword'."
   ]
  },
  {
   "cell_type": "code",
   "execution_count": 43,
   "metadata": {},
   "outputs": [
    {
     "data": {
      "text/plain": [
       "<matplotlib.axes._subplots.AxesSubplot at 0x2c796c961c8>"
      ]
     },
     "execution_count": 43,
     "metadata": {},
     "output_type": "execute_result"
    },
    {
     "data": {
      "image/png": "[encoded data removed]",
      "text/plain": [
       "<Figure size 432x288 with 1 Axes>"
      ]
     },
     "metadata": {
      "needs_background": "light"
     },
     "output_type": "display_data"
    }
   ],
   "source": [
    "sns.countplot(y=train_data['target'])"
   ]
  },
  {
   "cell_type": "markdown",
   "metadata": {},
   "source": [
    "The target values are fairly balanced in the train dataset."
   ]
  },
  {
   "cell_type": "markdown",
   "metadata": {},
   "source": [
    "### Keywords"
   ]
  },
  {
   "cell_type": "code",
   "execution_count": 44,
   "metadata": {},
   "outputs": [
    {
     "name": "stdout",
     "output_type": "stream",
     "text": [
      "Unique keyword count in train data: 221\n",
      "Unique keyword count in test data: 221\n",
      "set()\n"
     ]
    }
   ],
   "source": [
    "print('Unique keyword count in train data:', train_data.keyword.nunique())\n",
    "print('Unique keyword count in test data:', test_data.keyword.nunique())\n",
    "\n",
    "print (set(train_data.keyword.unique()) - set(test_data.keyword.unique()))"
   ]
  },
  {
   "cell_type": "markdown",
   "metadata": {},
   "source": [
    "Both dataset have the same 221 keywords."
   ]
  },
  {
   "cell_type": "code",
   "execution_count": 45,
   "metadata": {},
   "outputs": [
    {
     "data": {
      "image/png": "[encoded data removed]",
      "text/plain": [
       "<Figure size 1008x288 with 2 Axes>"
      ]
     },
     "metadata": {
      "needs_background": "light"
     },
     "output_type": "display_data"
    }
   ],
   "source": [
    "train_data_groupby_keyword = train_data.groupby('keyword')['target'].mean().sort_values(ascending=False)\n",
    "\n",
    "plt.figure(figsize=(14,4))\n",
    "\n",
    "plt.subplot(121)\n",
    "sns.barplot(x=train_data_groupby_keyword.head(10), y=train_data_groupby_keyword.head(10).index)\n",
    "\n",
    "plt.subplot(122)\n",
    "sns.barplot(x=train_data_groupby_keyword.tail(10), y=train_data_groupby_keyword.tail(10).index)\n",
    "\n",
    "plt.tight_layout()"
   ]
  },
  {
   "cell_type": "markdown",
   "metadata": {},
   "source": [
    "Some keywords seem to be linked with the occurence of a disaster while some others not."
   ]
  },
  {
   "cell_type": "markdown",
   "metadata": {},
   "source": [
    "## II. Data Cleaning and Preprocessing"
   ]
  },
  {
   "cell_type": "markdown",
   "metadata": {},
   "source": [
    "### Dropping duplicate rows"
   ]
  },
  {
   "cell_type": "code",
   "execution_count": 124,
   "metadata": {},
   "outputs": [],
   "source": [
    "train_data_copy = train_data.copy()\n",
    "test_data_copy = test_data.copy()\n",
    "\n",
    "train_data_copy = train_data_copy.drop_duplicates(keep='first')\n",
    "# test_data_copy = test_data_copy.drop_duplicates(keep='first')"
   ]
  },
  {
   "cell_type": "code",
   "execution_count": 125,
   "metadata": {},
   "outputs": [
    {
     "name": "stdout",
     "output_type": "stream",
     "text": [
      "train_data_copy shape: (7561, 4)\n"
     ]
    }
   ],
   "source": [
    "print('train_data_copy shape:', train_data_copy.shape)\n",
    "# print('test_data_copy shape:', test_data_copy.shape)"
   ]
  },
  {
   "cell_type": "markdown",
   "metadata": {},
   "source": [
    "### Dealing with missing values"
   ]
  },
  {
   "cell_type": "code",
   "execution_count": 126,
   "metadata": {},
   "outputs": [],
   "source": [
    "train_data_copy['keyword'] = train_data_copy['keyword'].fillna('no_keyword')\n",
    "test_data_copy['keyword'] = test_data_copy['keyword'].fillna('no_keyword')\n",
    "\n",
    "train_data_copy['location'] = train_data_copy['location'].fillna('no_location')\n",
    "test_data_copy['location'] = test_data_copy['location'].fillna('no_location')"
   ]
  },
  {
   "cell_type": "code",
   "execution_count": 127,
   "metadata": {},
   "outputs": [
    {
     "data": {
      "text/plain": [
       "target      0\n",
       "text        0\n",
       "location    0\n",
       "keyword     0\n",
       "dtype: int64"
      ]
     },
     "execution_count": 127,
     "metadata": {},
     "output_type": "execute_result"
    }
   ],
   "source": [
    "train_data_copy.isnull().sum().sort_values(ascending=False)"
   ]
  },
  {
   "cell_type": "code",
   "execution_count": 128,
   "metadata": {},
   "outputs": [
    {
     "data": {
      "text/plain": [
       "text        0\n",
       "location    0\n",
       "keyword     0\n",
       "dtype: int64"
      ]
     },
     "execution_count": 128,
     "metadata": {},
     "output_type": "execute_result"
    }
   ],
   "source": [
    "test_data_copy.isnull().sum().sort_values(ascending=False)"
   ]
  },
  {
   "cell_type": "markdown",
   "metadata": {},
   "source": [
    "### Text Cleaning"
   ]
  },
  {
   "cell_type": "code",
   "execution_count": 129,
   "metadata": {},
   "outputs": [
    {
     "name": "stdout",
     "output_type": "stream",
     "text": [
      ">>> Text cleaning done\n"
     ]
    }
   ],
   "source": [
    "def clean_text(text):\n",
    "    text = re.sub(r'https?://\\S+', '', text) # Remove link\n",
    "    text = re.sub(r'\\n',' ', text) # Remove line breaks\n",
    "    text = re.sub('\\s+', ' ', text).strip() # Remove leading, trailing, and extra \n",
    "    text = text.lower() # convert to lower case\n",
    "    return text\n",
    "\n",
    "train_data_copy['text_clean'] = train_data_copy['text'].apply(lambda x: clean_text(x))\n",
    "test_data_copy['text_clean'] = test_data_copy['text'].apply(lambda x: clean_text(x))\n",
    "\n",
    "print('>>> Text cleaning done')"
   ]
  },
  {
   "cell_type": "markdown",
   "metadata": {},
   "source": [
    "### Embedding"
   ]
  },
  {
   "cell_type": "code",
   "execution_count": 130,
   "metadata": {},
   "outputs": [
    {
     "name": "stdout",
     "output_type": "stream",
     "text": [
      "['tagger', 'parser', 'ner']\n"
     ]
    }
   ],
   "source": [
    "print(nlp.pipe_names)"
   ]
  },
  {
   "cell_type": "code",
   "execution_count": 131,
   "metadata": {},
   "outputs": [
    {
     "name": "stdout",
     "output_type": "stream",
     "text": [
      ">>> Embedding done\n"
     ]
    }
   ],
   "source": [
    "with nlp.disable_pipes():\n",
    "    train_vectors = {}\n",
    "    for idx, tweet in train_data_copy.iterrows():\n",
    "        train_vectors[idx] = nlp(tweet['text_clean']).vector\n",
    "        \n",
    "with nlp.disable_pipes():\n",
    "    test_vectors = {}\n",
    "    for idx, tweet in test_data_copy.iterrows():\n",
    "        test_vectors[idx] = nlp(tweet['text_clean']).vector\n",
    "        \n",
    "train_vectors_df = pd.DataFrame(train_vectors).transpose()\n",
    "test_vectors_df = pd.DataFrame(test_vectors).transpose()\n",
    "    \n",
    "print('>>> Embedding done')"
   ]
  },
  {
   "cell_type": "code",
   "execution_count": 132,
   "metadata": {},
   "outputs": [
    {
     "name": "stdout",
     "output_type": "stream",
     "text": [
      "train_vectors shape: (7561, 300)\n",
      "test_vectors shape: (3263, 300)\n"
     ]
    }
   ],
   "source": [
    "print('train_vectors shape:', train_vectors_df.shape)\n",
    "print('test_vectors shape:', test_vectors_df.shape)"
   ]
  },
  {
   "cell_type": "markdown",
   "metadata": {},
   "source": [
    "### Encoding"
   ]
  },
  {
   "cell_type": "code",
   "execution_count": 133,
   "metadata": {},
   "outputs": [
    {
     "name": "stdout",
     "output_type": "stream",
     "text": [
      ">>> Target encoding done\n"
     ]
    }
   ],
   "source": [
    "import category_encoders as ce\n",
    "\n",
    "# Target encoding\n",
    "features = ['keyword', 'location']\n",
    "encoder = ce.TargetEncoder(cols=features)\n",
    "encoder.fit(train_data_copy[features], train_data_copy['target'])\n",
    "\n",
    "train_data_copy = train_data_copy.join(encoder.transform(train_data_copy[features]).add_suffix('_enc'))\n",
    "test_data_copy = test_data_copy.join(encoder.transform(test_data_copy[features]).add_suffix('_enc'))\n",
    "\n",
    "print('>>> Target encoding done')"
   ]
  },
  {
   "cell_type": "code",
   "execution_count": 134,
   "metadata": {},
   "outputs": [
    {
     "name": "stdout",
     "output_type": "stream",
     "text": [
      "train shape: (7561, 307)\n",
      "test shape: (3263, 306)\n"
     ]
    }
   ],
   "source": [
    "# Joining the dataframes together\n",
    "train = train_data_copy.join(train_vectors_df)\n",
    "test = test_data_copy.join(test_vectors_df)\n",
    "\n",
    "print('train shape:', train.shape)\n",
    "print('test shape:', test.shape)"
   ]
  },
  {
   "cell_type": "markdown",
   "metadata": {},
   "source": [
    "### Dropping features"
   ]
  },
  {
   "cell_type": "code",
   "execution_count": 135,
   "metadata": {},
   "outputs": [
    {
     "name": "stdout",
     "output_type": "stream",
     "text": [
      "train shape: (7561, 303)\n",
      "test shape: (3263, 302)\n"
     ]
    }
   ],
   "source": [
    "cols_drop = ['keyword', 'location', 'text', 'text_clean']\n",
    "\n",
    "train = train.drop(cols_drop, axis=1)\n",
    "test = test.drop(cols_drop, axis=1)\n",
    "\n",
    "print('train shape:', train.shape)\n",
    "print('test shape:', test.shape)"
   ]
  },
  {
   "cell_type": "markdown",
   "metadata": {},
   "source": [
    "## III. Model Selection"
   ]
  },
  {
   "cell_type": "code",
   "execution_count": 161,
   "metadata": {},
   "outputs": [],
   "source": [
    "from sklearn.model_selection import train_test_split, cross_val_score, GridSearchCV\n",
    "from sklearn.svm import LinearSVC\n",
    "from xgboost import XGBClassifier\n",
    "\n",
    "X = train.drop(['target'], axis=1)\n",
    "y = train.target\n",
    "X_test = test"
   ]
  },
  {
   "cell_type": "markdown",
   "metadata": {},
   "source": [
    "### 1. Testing different models"
   ]
  },
  {
   "cell_type": "markdown",
   "metadata": {},
   "source": [
    "#### SVC"
   ]
  },
  {
   "cell_type": "code",
   "execution_count": 167,
   "metadata": {},
   "outputs": [
    {
     "name": "stdout",
     "output_type": "stream",
     "text": [
      "SVC Mean Accuracy: 0.8132577346424424\n"
     ]
    }
   ],
   "source": [
    "svc_model = LinearSVC(C=0.07, dual=False, penalty='l1' ,max_iter=10000)\n",
    "svc_accuracy = cross_val_score(svc_model, X, y, cv=5)\n",
    "\n",
    "print('SVC Mean Accuracy:', svc_accuracy.mean())"
   ]
  },
  {
   "cell_type": "code",
   "execution_count": 140,
   "metadata": {},
   "outputs": [],
   "source": [
    "# # SVC - Grid Search\n",
    "# svc_param_grid ={\n",
    "#     'C': [0.03,0.05,0.07],\n",
    "#     'dual': [False],\n",
    "#     'penalty': ['l1'],\n",
    "#     'max_iter': [10000]\n",
    "# }\n",
    "\n",
    "# svc_model = LinearSVC()\n",
    "# svc_grid = GridSearchCV(estimator=svc_model, param_grid=svc_param_grid, cv=5, verbose=2, n_jobs=-1)\n",
    "# svc_grid.fit(X, y)\n",
    "\n",
    "# print('Best params:', svc_grid.best_params_)\n",
    "# print('Best score:', svc_grid.best_score_)"
   ]
  },
  {
   "cell_type": "markdown",
   "metadata": {},
   "source": [
    "#### ANN"
   ]
  },
  {
   "cell_type": "code",
   "execution_count": 188,
   "metadata": {},
   "outputs": [
    {
     "name": "stdout",
     "output_type": "stream",
     "text": [
      "TensorFlow version: 2.2.0\n",
      "Keras version: 2.3.0-tf\n"
     ]
    }
   ],
   "source": [
    "import tensorflow as tf\n",
    "from tensorflow import keras\n",
    "\n",
    "from tensorflow.keras import Model, backend as K\n",
    "from tensorflow.keras.models import Sequential, load_model\n",
    "from tensorflow.keras.layers import Dense, Dropout, SimpleRNN, LSTM, Embedding, Input\n",
    "from tensorflow.keras.callbacks import EarlyStopping\n",
    "\n",
    "print('TensorFlow version:', tf.__version__)\n",
    "print('Keras version:', keras.__version__)"
   ]
  },
  {
   "cell_type": "code",
   "execution_count": 237,
   "metadata": {},
   "outputs": [
    {
     "name": "stdout",
     "output_type": "stream",
     "text": [
      "Epoch 1/50\n",
      "189/189 [==============================] - 0s 1ms/step - loss: 0.4735 - accuracy: 0.7803 - val_loss: 0.4225 - val_accuracy: 0.8209\n",
      "Epoch 2/50\n",
      "189/189 [==============================] - 0s 1ms/step - loss: 0.4076 - accuracy: 0.8236 - val_loss: 0.4151 - val_accuracy: 0.8182\n",
      "Epoch 3/50\n",
      "189/189 [==============================] - 0s 1ms/step - loss: 0.3865 - accuracy: 0.8318 - val_loss: 0.4297 - val_accuracy: 0.8268\n",
      "Epoch 4/50\n",
      "189/189 [==============================] - 0s 1ms/step - loss: 0.3627 - accuracy: 0.8434 - val_loss: 0.4365 - val_accuracy: 0.8096\n",
      "Epoch 5/50\n",
      "189/189 [==============================] - 0s 1ms/step - loss: 0.3431 - accuracy: 0.8532 - val_loss: 0.4468 - val_accuracy: 0.8189\n",
      "Epoch 6/50\n",
      "189/189 [==============================] - 0s 1ms/step - loss: 0.3259 - accuracy: 0.8641 - val_loss: 0.4506 - val_accuracy: 0.8163\n",
      "Epoch 7/50\n",
      "189/189 [==============================] - 0s 1ms/step - loss: 0.3052 - accuracy: 0.8717 - val_loss: 0.4575 - val_accuracy: 0.8182\n",
      "Epoch 8/50\n",
      "189/189 [==============================] - 0s 1ms/step - loss: 0.2843 - accuracy: 0.8816 - val_loss: 0.4684 - val_accuracy: 0.8182\n",
      "Epoch 9/50\n",
      "189/189 [==============================] - 0s 2ms/step - loss: 0.2674 - accuracy: 0.8912 - val_loss: 0.4941 - val_accuracy: 0.8169\n",
      "Epoch 10/50\n",
      "189/189 [==============================] - 0s 1ms/step - loss: 0.2530 - accuracy: 0.8943 - val_loss: 0.5447 - val_accuracy: 0.8083\n",
      "Epoch 11/50\n",
      "189/189 [==============================] - 0s 1ms/step - loss: 0.2411 - accuracy: 0.8996 - val_loss: 0.5540 - val_accuracy: 0.8149\n",
      "Epoch 12/50\n",
      "189/189 [==============================] - 0s 1ms/step - loss: 0.2275 - accuracy: 0.9028 - val_loss: 0.5279 - val_accuracy: 0.8169\n"
     ]
    }
   ],
   "source": [
    "X_train, X_valid, y_train, y_valid = train_test_split(X, y, test_size=0.2)\n",
    "\n",
    "early_stopping_cb = EarlyStopping(patience=10, restore_best_weights=True)\n",
    "\n",
    "# ann_model = Sequential ([\n",
    "#     Dense(100, activation='relu', kernel_initializer='he_uniform',\n",
    "#           input_shape=X_train.shape[1:]),\n",
    "#     Dropout(rate=0.1),\n",
    "#     Dense(50, activation='relu', kernel_initializer='he_uniform'),\n",
    "#     Dense(1, activation='sigmoid')\n",
    "# ])\n",
    "\n",
    "ann_model = Sequential([\n",
    "    Dense(100, activation='relu', kernel_initializer='he_uniform',\n",
    "           input_shape=X_train.shape[1:]),\n",
    "    Dropout(rate=0.1),\n",
    "    Dense(100, activation='relu'),\n",
    "    Dropout(rate=0.1),\n",
    "    Dense(100, activation='relu'),\n",
    "    Dropout(rate=0.1),\n",
    "    Dense(50, activation='relu'),\n",
    "    Dropout(rate=0.1),\n",
    "    Dense(1, activation='sigmoid')\n",
    "])\n",
    "\n",
    "ann_model.compile(loss='binary_crossentropy', optimizer='adam', metrics='accuracy')\n",
    "\n",
    "history = ann_model.fit(X_train, y_train, epochs=50, \n",
    "                        validation_data=(X_valid, y_valid), \n",
    "                        callbacks=[early_stopping_cb])\n",
    "\n",
    "ann_model.save('binary_classification_model.h5')"
   ]
  },
  {
   "cell_type": "code",
   "execution_count": 238,
   "metadata": {},
   "outputs": [
    {
     "data": {
      "text/plain": [
       "Text(0.5, 1.0, 'Learning curves')"
      ]
     },
     "execution_count": 238,
     "metadata": {},
     "output_type": "execute_result"
    },
    {
     "data": {
      "image/png": "[encoded data removed]",
      "text/plain": [
       "<Figure size 576x360 with 1 Axes>"
      ]
     },
     "metadata": {
      "needs_background": "light"
     },
     "output_type": "display_data"
    }
   ],
   "source": [
    "pd.DataFrame(history.history).plot(figsize=(8,5))\n",
    "plt.grid(True)\n",
    "plt.xlabel('epoch')\n",
    "plt.title('Learning curves')"
   ]
  },
  {
   "cell_type": "markdown",
   "metadata": {},
   "source": [
    "### 2. Performance measures"
   ]
  },
  {
   "cell_type": "code",
   "execution_count": 142,
   "metadata": {},
   "outputs": [],
   "source": [
    "from sklearn.model_selection import cross_val_predict\n",
    "from sklearn.metrics import confusion_matrix, precision_score, recall_score, f1_score, precision_recall_curve, roc_curve, roc_auc_score"
   ]
  },
  {
   "cell_type": "markdown",
   "metadata": {},
   "source": [
    "#### Confusion matrix"
   ]
  },
  {
   "cell_type": "code",
   "execution_count": 144,
   "metadata": {},
   "outputs": [
    {
     "data": {
      "image/png": "[encoded data removed]",
      "text/plain": [
       "<Figure size 432x288 with 2 Axes>"
      ]
     },
     "metadata": {
      "needs_background": "light"
     },
     "output_type": "display_data"
    }
   ],
   "source": [
    "svc_model = LinearSVC(C=0.07, dual=False, penalty='l1' ,max_iter=10000)\n",
    "y_pred = cross_val_predict(svc_model, X, y, cv=5)\n",
    "\n",
    "svc_confusion = confusion_matrix(y_train, y_pred)\n",
    "\n",
    "def plot_confusion_matrix(matrix):\n",
    "    ax = plt.subplot()\n",
    "    sns.heatmap(matrix, annot=True, fmt='g', ax=ax, cmap='YlGnBu')\n",
    "\n",
    "    ax.set_xlabel('Predicted labels')\n",
    "    ax.set_ylabel('True labels')\n",
    "    ax.set_title('Confusion Matrix') \n",
    "    ax.xaxis.set_ticklabels(['0', '1'])\n",
    "    ax.yaxis.set_ticklabels(['0', '1']);\n",
    "    \n",
    "plot_confusion_matrix(svc_confusion)"
   ]
  },
  {
   "cell_type": "markdown",
   "metadata": {},
   "source": [
    "#### Precision and Recall"
   ]
  },
  {
   "cell_type": "code",
   "execution_count": 145,
   "metadata": {},
   "outputs": [
    {
     "name": "stdout",
     "output_type": "stream",
     "text": [
      "SVC precision score: 0.7452917567150356\n",
      "SVC recall score: 0.8043985338220593\n",
      "SVC f1 score: 0.7737179487179487\n"
     ]
    }
   ],
   "source": [
    "print('SVC precision score:', precision_score(y_pred, y))\n",
    "print('SVC recall score:', recall_score(y_pred, y))\n",
    "print('SVC f1 score:', f1_score(y_pred, y))"
   ]
  },
  {
   "cell_type": "code",
   "execution_count": 146,
   "metadata": {},
   "outputs": [
    {
     "data": {
      "image/png": "[encoded data removed]",
      "text/plain": [
       "<Figure size 432x288 with 1 Axes>"
      ]
     },
     "metadata": {
      "needs_background": "light"
     },
     "output_type": "display_data"
    }
   ],
   "source": [
    "y_pred = cross_val_predict(svc_model, X, y, cv=5, method='decision_function')\n",
    "\n",
    "precisions, recalls, thresholds = precision_recall_curve(y, y_pred)\n",
    "\n",
    "def plot_precision_recall_vs_threshold(precisions, recalls, thresholds):\n",
    "    ax = plt.subplot()\n",
    "    ax.plot(thresholds, precisions[:-1], 'b--', label='Precision')\n",
    "    ax.plot(thresholds, recalls[:-1], 'g-', label='Recall')\n",
    "    \n",
    "    ax.set(ylim=[0,1])\n",
    "    ax.grid(True)\n",
    "    ax.set_xlabel('Threshold')\n",
    "    ax.legend(loc='lower right')\n",
    "    plt.tight_layout()\n",
    "    \n",
    "plot_precision_recall_vs_threshold(precisions, recalls, thresholds)"
   ]
  },
  {
   "cell_type": "markdown",
   "metadata": {},
   "source": [
    "#### ROC Curve"
   ]
  },
  {
   "cell_type": "code",
   "execution_count": 147,
   "metadata": {},
   "outputs": [
    {
     "data": {
      "image/png": "[encoded data removed]",
      "text/plain": [
       "<Figure size 432x288 with 1 Axes>"
      ]
     },
     "metadata": {
      "needs_background": "light"
     },
     "output_type": "display_data"
    }
   ],
   "source": [
    "y_proba = cross_val_predict(svc_model, X, y, cv=5, method='decision_function')\n",
    "\n",
    "fpr, tpr, thresholds = roc_curve(y_train, y)\n",
    "\n",
    "def plot_roc_curve(fpr, tpr, label=None):\n",
    "    ax = plt.subplot()\n",
    "    ax.plot(fpr, tpr, linewidth=2, label=label)\n",
    "    ax.plot([0,1],[0,1],'k--')\n",
    "\n",
    "    ax.set(xlim=[0,1],ylim=[0,1])\n",
    "    ax.grid(True)\n",
    "    ax.set_xlabel('False Positive Rate')\n",
    "    ax.set_ylabel('True Positive Rate (Recall)')\n",
    "    ax.legend(loc='lower right')\n",
    "    plt.title('ROC Curve')\n",
    "    plt.tight_layout()\n",
    "    \n",
    "plot_roc_curve(fpr, tpr, 'SVC Classifier')"
   ]
  },
  {
   "cell_type": "code",
   "execution_count": 148,
   "metadata": {},
   "outputs": [
    {
     "name": "stdout",
     "output_type": "stream",
     "text": [
      "SVC ROC AUC Score: 0.8835701557215903\n"
     ]
    }
   ],
   "source": [
    "svc_roc_auc = roc_auc_score(y_train, y_pred)\n",
    "\n",
    "print('SVC ROC AUC Score:', svc_roc_auc)"
   ]
  },
  {
   "cell_type": "markdown",
   "metadata": {},
   "source": [
    "## IV. Submission"
   ]
  },
  {
   "cell_type": "code",
   "execution_count": 239,
   "metadata": {},
   "outputs": [],
   "source": [
    "# Create the final model\n",
    "# final_model = LinearSVC(C=0.07, dual=False, penalty='l1' ,max_iter=10000)\n",
    "final_model = load_model('binary_classification_model.h5')\n",
    "\n",
    "# Fitting the final model using all the data\n",
    "# final_model.fit(X, y)"
   ]
  },
  {
   "cell_type": "code",
   "execution_count": 240,
   "metadata": {},
   "outputs": [
    {
     "name": "stdout",
     "output_type": "stream",
     "text": [
      "Model: \"sequential_29\"\n",
      "_________________________________________________________________\n",
      "Layer (type)                 Output Shape              Param #   \n",
      "=================================================================\n",
      "dense_114 (Dense)            (None, 100)               30300     \n",
      "_________________________________________________________________\n",
      "dropout_72 (Dropout)         (None, 100)               0         \n",
      "_________________________________________________________________\n",
      "dense_115 (Dense)            (None, 100)               10100     \n",
      "_________________________________________________________________\n",
      "dropout_73 (Dropout)         (None, 100)               0         \n",
      "_________________________________________________________________\n",
      "dense_116 (Dense)            (None, 100)               10100     \n",
      "_________________________________________________________________\n",
      "dropout_74 (Dropout)         (None, 100)               0         \n",
      "_________________________________________________________________\n",
      "dense_117 (Dense)            (None, 50)                5050      \n",
      "_________________________________________________________________\n",
      "dropout_75 (Dropout)         (None, 50)                0         \n",
      "_________________________________________________________________\n",
      "dense_118 (Dense)            (None, 1)                 51        \n",
      "=================================================================\n",
      "Total params: 55,601\n",
      "Trainable params: 55,601\n",
      "Non-trainable params: 0\n",
      "_________________________________________________________________\n"
     ]
    }
   ],
   "source": [
    "final_model.summary()"
   ]
  },
  {
   "cell_type": "code",
   "execution_count": 241,
   "metadata": {},
   "outputs": [
    {
     "name": "stdout",
     "output_type": "stream",
     "text": [
      ">>> CSV created\n"
     ]
    }
   ],
   "source": [
    "# test_predictions = final_model.predict(X_test)\n",
    "test_predictions = final_model.predict_classes(X_test)[:,0]\n",
    "\n",
    "output = pd.DataFrame({'id': test_data.index,\n",
    "                       'target': test_predictions})\n",
    "output = output.set_index('id')\n",
    "\n",
    "output.to_csv('submission.csv')\n",
    "\n",
    "print('>>> CSV created')"
   ]
  },
  {
   "cell_type": "code",
   "execution_count": 242,
   "metadata": {},
   "outputs": [
    {
     "data": {
      "text/plain": [
       "0    2206\n",
       "1    1057\n",
       "Name: target, dtype: int64"
      ]
     },
     "execution_count": 242,
     "metadata": {},
     "output_type": "execute_result"
    }
   ],
   "source": [
    "output.target.value_counts()"
   ]
  }
 ],
 "metadata": {
  "kernelspec": {
   "display_name": "Python 3",
   "language": "python",
   "name": "python3"
  },
  "language_info": {
   "codemirror_mode": {
    "name": "ipython",
    "version": 3
   },
   "file_extension": ".py",
   "mimetype": "text/x-python",
   "name": "python",
   "nbconvert_exporter": "python",
   "pygments_lexer": "ipython3",
   "version": "3.7.4"
  }
 },
 "nbformat": 4,
 "nbformat_minor": 2
}
